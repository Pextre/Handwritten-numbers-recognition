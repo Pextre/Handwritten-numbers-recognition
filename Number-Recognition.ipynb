{
 "cells": [
  {
   "cell_type": "code",
   "execution_count": 21,
   "metadata": {},
   "outputs": [
    {
     "data": {
      "image/png": "[encoded data removed]",
      "text/plain": [
       "<Figure size 432x288 with 1 Axes>"
      ]
     },
     "metadata": {},
     "output_type": "display_data"
    },
    {
     "name": "stdout",
     "output_type": "stream",
     "text": [
      "8\n"
     ]
    }
   ],
   "source": [
    "import tensorflow as tf\n",
    "import cv2\n",
    "import matplotlib.pyplot as plt\n",
    "import numpy as np\n",
    "\n",
    "\n",
    "def prepare(filepath):\n",
    "    IMG_SIZE=28 #all images used in training were 28x28 \n",
    "    IMG_array = cv2.imread(filepath,cv2.IMREAD_GRAYSCALE)\n",
    "    plt.imshow(IMG_array , cmap='gray')\n",
    "    plt.show()\n",
    "    new_array = cv2.resize(IMG_array , (IMG_SIZE , IMG_SIZE))\n",
    "    return new_array.reshape(-1,IMG_SIZE,IMG_SIZE ,1)\n",
    "\n",
    "def decode(one_hot_array):\n",
    "    #return the index \n",
    "    return np.argmax(one_hot_array)\n",
    "\n",
    "def prediction_classification(prediction):\n",
    "    #print the result \n",
    "    print(decode(prediction))\n",
    "\n",
    "MODEL_NAME = '128x128-CNN-Numbers.model'\n",
    "model = tf.keras.models.load_model(MODEL_NAME)\n",
    "\n",
    "prediction = model.predict([prepare('number.png')])\n",
    "prediction_classification(prediction)\n"
   ]
  },
  {
   "cell_type": "code",
   "execution_count": null,
   "metadata": {},
   "outputs": [],
   "source": []
  },
  {
   "cell_type": "code",
   "execution_count": null,
   "metadata": {},
   "outputs": [],
   "source": []
  }
 ],
 "metadata": {
  "kernelspec": {
   "display_name": "Python 3",
   "language": "python",
   "name": "python3"
  },
  "language_info": {
   "codemirror_mode": {
    "name": "ipython",
    "version": 3
   },
   "file_extension": ".py",
   "mimetype": "text/x-python",
   "name": "python",
   "nbconvert_exporter": "python",
   "pygments_lexer": "ipython3",
   "version": "3.6.5"
  }
 },
 "nbformat": 4,
 "nbformat_minor": 2
}
